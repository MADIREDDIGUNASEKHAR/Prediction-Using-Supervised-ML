{
  "nbformat": 4,
  "nbformat_minor": 0,
  "metadata": {
    "colab": {
      "name": "The Sparks Foundation Task-1.ipynb",
      "provenance": [],
      "collapsed_sections": []
    },
    "kernelspec": {
      "name": "python3",
      "display_name": "Python 3"
    }
  },
  "cells": [
    {
      "cell_type": "markdown",
      "metadata": {
        "id": "bFEtlAXaJo-o"
      },
      "source": [
        "## **Varikuti Naveen Reddy**"
      ]
    },
    {
      "cell_type": "markdown",
      "metadata": {
        "id": "O2DXf8NsJ0fi"
      },
      "source": [
        "### Task 1: Prediction Using Supervised ML\r\n",
        "Predict the percentage of an student based on the no. of study hours.\r\n",
        "\r\n",
        "This is a simple linear regression task as it involves just 2 variables."
      ]
    },
    {
      "cell_type": "markdown",
      "metadata": {
        "id": "lBf4F79cKLor"
      },
      "source": [
        "### 1.) Importing Libraries"
      ]
    },
    {
      "cell_type": "code",
      "metadata": {
        "id": "Nhdtpv0X8MQm"
      },
      "source": [
        "import numpy as np\r\n",
        "import pandas as pd\r\n",
        "import matplotlib.pyplot as plt\r\n",
        "import seaborn as sb\r\n"
      ],
      "execution_count": null,
      "outputs": []
    },
    {
      "cell_type": "markdown",
      "metadata": {
        "id": "q11-NZI3Kd_f"
      },
      "source": [
        "### 2.) Loading Data for Prediction"
      ]
    },
    {
      "cell_type": "code",
      "metadata": {
        "colab": {
          "base_uri": "https://localhost:8080/",
          "height": 204
        },
        "id": "8Gqbn7hpJ0Dd",
        "outputId": "363994c8-a72e-495c-efe4-51902a4b02b6"
      },
      "source": [
        "data_link=\"http://bit.ly/w-data\"\r\n",
        "data=pd.read_csv(data_link)\r\n",
        "data.head()"
      ],
      "execution_count": null,
      "outputs": [
        {
          "output_type": "execute_result",
          "data": {
            "text/html": [
              "<div>\n",
              "<style scoped>\n",
              "    .dataframe tbody tr th:only-of-type {\n",
              "        vertical-align: middle;\n",
              "    }\n",
              "\n",
              "    .dataframe tbody tr th {\n",
              "        vertical-align: top;\n",
              "    }\n",
              "\n",
              "    .dataframe thead th {\n",
              "        text-align: right;\n",
              "    }\n",
              "</style>\n",
              "<table border=\"1\" class=\"dataframe\">\n",
              "  <thead>\n",
              "    <tr style=\"text-align: right;\">\n",
              "      <th></th>\n",
              "      <th>Hours</th>\n",
              "      <th>Scores</th>\n",
              "    </tr>\n",
              "  </thead>\n",
              "  <tbody>\n",
              "    <tr>\n",
              "      <th>0</th>\n",
              "      <td>2.5</td>\n",
              "      <td>21</td>\n",
              "    </tr>\n",
              "    <tr>\n",
              "      <th>1</th>\n",
              "      <td>5.1</td>\n",
              "      <td>47</td>\n",
              "    </tr>\n",
              "    <tr>\n",
              "      <th>2</th>\n",
              "      <td>3.2</td>\n",
              "      <td>27</td>\n",
              "    </tr>\n",
              "    <tr>\n",
              "      <th>3</th>\n",
              "      <td>8.5</td>\n",
              "      <td>75</td>\n",
              "    </tr>\n",
              "    <tr>\n",
              "      <th>4</th>\n",
              "      <td>3.5</td>\n",
              "      <td>30</td>\n",
              "    </tr>\n",
              "  </tbody>\n",
              "</table>\n",
              "</div>"
            ],
            "text/plain": [
              "   Hours  Scores\n",
              "0    2.5      21\n",
              "1    5.1      47\n",
              "2    3.2      27\n",
              "3    8.5      75\n",
              "4    3.5      30"
            ]
          },
          "metadata": {
            "tags": []
          },
          "execution_count": 3
        }
      ]
    },
    {
      "cell_type": "code",
      "metadata": {
        "id": "U9t0aDcpKwe9"
      },
      "source": [
        "#We can see here, the data is imported succesfully !!"
      ],
      "execution_count": null,
      "outputs": []
    },
    {
      "cell_type": "markdown",
      "metadata": {
        "id": "xfIkCMx2LAR1"
      },
      "source": [
        "### 3.) Data Checking"
      ]
    },
    {
      "cell_type": "code",
      "metadata": {
        "colab": {
          "base_uri": "https://localhost:8080/"
        },
        "id": "6A51wQhiK6AD",
        "outputId": "b4adf981-77fb-4fbc-a409-16bc684c0cfc"
      },
      "source": [
        "data.info()"
      ],
      "execution_count": null,
      "outputs": [
        {
          "output_type": "stream",
          "text": [
            "<class 'pandas.core.frame.DataFrame'>\n",
            "RangeIndex: 25 entries, 0 to 24\n",
            "Data columns (total 2 columns):\n",
            " #   Column  Non-Null Count  Dtype  \n",
            "---  ------  --------------  -----  \n",
            " 0   Hours   25 non-null     float64\n",
            " 1   Scores  25 non-null     int64  \n",
            "dtypes: float64(1), int64(1)\n",
            "memory usage: 528.0 bytes\n"
          ],
          "name": "stdout"
        }
      ]
    },
    {
      "cell_type": "code",
      "metadata": {
        "colab": {
          "base_uri": "https://localhost:8080/",
          "height": 297
        },
        "id": "oyT3XEygLIen",
        "outputId": "efaf0362-c071-40ac-8e55-ff442154a18f"
      },
      "source": [
        "data.describe()"
      ],
      "execution_count": null,
      "outputs": [
        {
          "output_type": "execute_result",
          "data": {
            "text/html": [
              "<div>\n",
              "<style scoped>\n",
              "    .dataframe tbody tr th:only-of-type {\n",
              "        vertical-align: middle;\n",
              "    }\n",
              "\n",
              "    .dataframe tbody tr th {\n",
              "        vertical-align: top;\n",
              "    }\n",
              "\n",
              "    .dataframe thead th {\n",
              "        text-align: right;\n",
              "    }\n",
              "</style>\n",
              "<table border=\"1\" class=\"dataframe\">\n",
              "  <thead>\n",
              "    <tr style=\"text-align: right;\">\n",
              "      <th></th>\n",
              "      <th>Hours</th>\n",
              "      <th>Scores</th>\n",
              "    </tr>\n",
              "  </thead>\n",
              "  <tbody>\n",
              "    <tr>\n",
              "      <th>count</th>\n",
              "      <td>25.000000</td>\n",
              "      <td>25.000000</td>\n",
              "    </tr>\n",
              "    <tr>\n",
              "      <th>mean</th>\n",
              "      <td>5.012000</td>\n",
              "      <td>51.480000</td>\n",
              "    </tr>\n",
              "    <tr>\n",
              "      <th>std</th>\n",
              "      <td>2.525094</td>\n",
              "      <td>25.286887</td>\n",
              "    </tr>\n",
              "    <tr>\n",
              "      <th>min</th>\n",
              "      <td>1.100000</td>\n",
              "      <td>17.000000</td>\n",
              "    </tr>\n",
              "    <tr>\n",
              "      <th>25%</th>\n",
              "      <td>2.700000</td>\n",
              "      <td>30.000000</td>\n",
              "    </tr>\n",
              "    <tr>\n",
              "      <th>50%</th>\n",
              "      <td>4.800000</td>\n",
              "      <td>47.000000</td>\n",
              "    </tr>\n",
              "    <tr>\n",
              "      <th>75%</th>\n",
              "      <td>7.400000</td>\n",
              "      <td>75.000000</td>\n",
              "    </tr>\n",
              "    <tr>\n",
              "      <th>max</th>\n",
              "      <td>9.200000</td>\n",
              "      <td>95.000000</td>\n",
              "    </tr>\n",
              "  </tbody>\n",
              "</table>\n",
              "</div>"
            ],
            "text/plain": [
              "           Hours     Scores\n",
              "count  25.000000  25.000000\n",
              "mean    5.012000  51.480000\n",
              "std     2.525094  25.286887\n",
              "min     1.100000  17.000000\n",
              "25%     2.700000  30.000000\n",
              "50%     4.800000  47.000000\n",
              "75%     7.400000  75.000000\n",
              "max     9.200000  95.000000"
            ]
          },
          "metadata": {
            "tags": []
          },
          "execution_count": 7
        }
      ]
    },
    {
      "cell_type": "code",
      "metadata": {
        "colab": {
          "base_uri": "https://localhost:8080/"
        },
        "id": "qS_GSiUFLLjW",
        "outputId": "e596553e-3b2b-4547-bc72-f629de32c54e"
      },
      "source": [
        "data.shape"
      ],
      "execution_count": null,
      "outputs": [
        {
          "output_type": "execute_result",
          "data": {
            "text/plain": [
              "(25, 2)"
            ]
          },
          "metadata": {
            "tags": []
          },
          "execution_count": 8
        }
      ]
    },
    {
      "cell_type": "code",
      "metadata": {
        "colab": {
          "base_uri": "https://localhost:8080/"
        },
        "id": "gIshMisgLNY9",
        "outputId": "d55de3df-88a6-4700-d773-b9840a775c47"
      },
      "source": [
        "data.size"
      ],
      "execution_count": null,
      "outputs": [
        {
          "output_type": "execute_result",
          "data": {
            "text/plain": [
              "50"
            ]
          },
          "metadata": {
            "tags": []
          },
          "execution_count": 9
        }
      ]
    },
    {
      "cell_type": "markdown",
      "metadata": {
        "id": "cvivE5v8LVs2"
      },
      "source": [
        "### 4.) Data Exploration and Data Analysis"
      ]
    },
    {
      "cell_type": "code",
      "metadata": {
        "colab": {
          "base_uri": "https://localhost:8080/"
        },
        "id": "uT8tHq0xLOtc",
        "outputId": "e02019af-1e5f-4cac-c687-8d078de28ba2"
      },
      "source": [
        "data.isnull().sum()"
      ],
      "execution_count": null,
      "outputs": [
        {
          "output_type": "execute_result",
          "data": {
            "text/plain": [
              "Hours     0\n",
              "Scores    0\n",
              "dtype: int64"
            ]
          },
          "metadata": {
            "tags": []
          },
          "execution_count": 11
        }
      ]
    },
    {
      "cell_type": "code",
      "metadata": {
        "id": "a_tcRinXLeTF"
      },
      "source": [
        "#So, We can see here there is no null values in the given data set."
      ],
      "execution_count": null,
      "outputs": []
    },
    {
      "cell_type": "markdown",
      "metadata": {
        "id": "H_0jvWMdLuKG"
      },
      "source": [
        "### 5.) Data Vizualisation"
      ]
    },
    {
      "cell_type": "markdown",
      "metadata": {
        "id": "m2mT2-MaMJkk"
      },
      "source": [
        "So, let make this data to speak by ploting !!"
      ]
    },
    {
      "cell_type": "code",
      "metadata": {
        "colab": {
          "base_uri": "https://localhost:8080/",
          "height": 295
        },
        "id": "k5EzxlKdLs24",
        "outputId": "9ab835c3-0164-42b4-f491-d66cdadb032a"
      },
      "source": [
        "data.plot.scatter(x=\"Hours\",y=\"Scores\")\r\n",
        "plt.title(\"Hours v/s Percentage Scores\")\r\n",
        "plt.xlabel(\"No. of Hours\")\r\n",
        "plt.ylabel(\"Scores in Percentage\")\r\n",
        "plt.show()"
      ],
      "execution_count": null,
      "outputs": [
        {
          "output_type": "display_data",
          "data": {
            "image/png": "[encoded data removed]",
            "text/plain": [
              "<Figure size 432x288 with 1 Axes>"
            ]
          },
          "metadata": {
            "tags": [],
            "needs_background": "light"
          }
        }
      ]
    },
    {
      "cell_type": "markdown",
      "metadata": {
        "id": "TrSRdDzdM3RV"
      },
      "source": [
        "Lets check whether there is any co-relation among the parameters "
      ]
    },
    {
      "cell_type": "code",
      "metadata": {
        "colab": {
          "base_uri": "https://localhost:8080/"
        },
        "id": "g67Ye1cdMdRf",
        "outputId": "1def7aa5-d02e-45eb-a3c9-de99494d9527"
      },
      "source": [
        "from scipy.stats import pearsonr\r\n",
        "corr=pearsonr(data[\"Hours\"],data[\"Scores\"])\r\n",
        "corr\r\n",
        "#So, we can observe positive corelation between the parameters\r\n"
      ],
      "execution_count": null,
      "outputs": [
        {
          "output_type": "execute_result",
          "data": {
            "text/plain": [
              "(0.9761906560220884, 9.132624467460325e-17)"
            ]
          },
          "metadata": {
            "tags": []
          },
          "execution_count": 18
        }
      ]
    },
    {
      "cell_type": "code",
      "metadata": {
        "colab": {
          "base_uri": "https://localhost:8080/",
          "height": 295
        },
        "id": "4js3M3tINkcl",
        "outputId": "58511948-45ec-437f-89d7-f0c64a1db2b8"
      },
      "source": [
        "#This can also be observed by ploting the regplot\r\n",
        "\r\n",
        "sb.regplot(x=data[\"Hours\"],y=data[\"Scores\"],data=data) \r\n",
        "plt.title(\"Hours v/s Percentage Scores\")\r\n",
        "plt.xlabel(\"No. of Hours\")\r\n",
        "plt.ylabel(\"Scores in Percentage\")\r\n",
        "plt.show()"
      ],
      "execution_count": null,
      "outputs": [
        {
          "output_type": "display_data",
          "data": {
            "image/png": "[encoded data removed]",
            "text/plain": [
              "<Figure size 432x288 with 1 Axes>"
            ]
          },
          "metadata": {
            "tags": [],
            "needs_background": "light"
          }
        }
      ]
    },
    {
      "cell_type": "markdown",
      "metadata": {
        "id": "dS7nYDisOSCW"
      },
      "source": [
        "### 6.) Splitting data into X and y for training the model"
      ]
    },
    {
      "cell_type": "code",
      "metadata": {
        "colab": {
          "base_uri": "https://localhost:8080/"
        },
        "id": "Isd0Y0kXOGhV",
        "outputId": "9eb13668-8d1c-4d88-f180-71abdef8f034"
      },
      "source": [
        "X=data.iloc[:,:-1].values\r\n",
        "y=data.iloc[:,-1].values\r\n"
      ],
      "execution_count": null,
      "outputs": [
        {
          "output_type": "execute_result",
          "data": {
            "text/plain": [
              "array([21, 47, 27, 75, 30, 20, 88, 60, 81, 25, 85, 62, 41, 42, 17, 95, 30,\n",
              "       24, 67, 69, 30, 54, 35, 76, 86])"
            ]
          },
          "metadata": {
            "tags": []
          },
          "execution_count": 27
        }
      ]
    },
    {
      "cell_type": "code",
      "metadata": {
        "id": "ZThC_4kNOk32"
      },
      "source": [
        "#lets split our data into train_set and test_set\r\n",
        "from sklearn.model_selection import train_test_split  \r\n",
        "X_train,X_test,y_train,y_test=train_test_split(X,y,test_size=0.2)     "
      ],
      "execution_count": null,
      "outputs": []
    },
    {
      "cell_type": "markdown",
      "metadata": {
        "id": "zdIByruPP_lL"
      },
      "source": [
        "Well, we are ready with our data to train the model and also to test that model"
      ]
    },
    {
      "cell_type": "markdown",
      "metadata": {
        "id": "nJQJY_QCQP0K"
      },
      "source": [
        "### 7.) Training Model"
      ]
    },
    {
      "cell_type": "code",
      "metadata": {
        "colab": {
          "base_uri": "https://localhost:8080/"
        },
        "id": "9cwf-VGCPI9W",
        "outputId": "0d87a5a2-aa8b-44ec-eecd-d080dfde90ab"
      },
      "source": [
        "from sklearn.linear_model import LinearRegression\r\n",
        "model=LinearRegression()\r\n",
        "model.fit(X_train,y_train)\r\n",
        "model_coef=model.coef_\r\n",
        "model_intercept=model.intercept_\r\n",
        "print(f\"Coefficent of our cost function is {model.coef_}\")\r\n",
        "print(f\"Intercept of our cost function is {model.intercept_}\")"
      ],
      "execution_count": null,
      "outputs": [
        {
          "output_type": "stream",
          "text": [
            "Coefficent of our cost function is [9.82473622]\n",
            "Intercept of our cost function is 2.5140504549597367\n"
          ],
          "name": "stdout"
        }
      ]
    },
    {
      "cell_type": "markdown",
      "metadata": {
        "id": "Qgyg7VxlSIog"
      },
      "source": [
        "So, Our Line equation will be x*coef+intercept"
      ]
    },
    {
      "cell_type": "code",
      "metadata": {
        "colab": {
          "base_uri": "https://localhost:8080/",
          "height": 265
        },
        "id": "wOYR3hD8R81W",
        "outputId": "0029819b-06d6-44a6-fba3-6c764ec29643"
      },
      "source": [
        "cost_function=X*model_coef+model_intercept\r\n",
        "#So, ploting our data as whole with respective to our model\r\n",
        "plt.scatter(X,y)\r\n",
        "plt.plot(X,cost_function,\"red\",label=\"cost function line or Regression line\")\r\n",
        "plt.legend()\r\n",
        "plt.show()"
      ],
      "execution_count": null,
      "outputs": [
        {
          "output_type": "display_data",
          "data": {
            "image/png": "[encoded data removed]",
            "text/plain": [
              "<Figure size 432x288 with 1 Axes>"
            ]
          },
          "metadata": {
            "tags": [],
            "needs_background": "light"
          }
        }
      ]
    },
    {
      "cell_type": "markdown",
      "metadata": {
        "id": "y_MWHtFrTzfx"
      },
      "source": [
        "### 8.) Predicting our testset"
      ]
    },
    {
      "cell_type": "code",
      "metadata": {
        "colab": {
          "base_uri": "https://localhost:8080/",
          "height": 204
        },
        "id": "pGiEfX6hTMP5",
        "outputId": "487685e9-2931-46e4-dd9e-37f7eabe5fc4"
      },
      "source": [
        "pred=model.predict(X_test)\r\n",
        "comparision=pd.DataFrame({\"Actual data\":y_test,\"predicted data\":pred})\r\n",
        "comparision"
      ],
      "execution_count": null,
      "outputs": [
        {
          "output_type": "execute_result",
          "data": {
            "text/html": [
              "<div>\n",
              "<style scoped>\n",
              "    .dataframe tbody tr th:only-of-type {\n",
              "        vertical-align: middle;\n",
              "    }\n",
              "\n",
              "    .dataframe tbody tr th {\n",
              "        vertical-align: top;\n",
              "    }\n",
              "\n",
              "    .dataframe thead th {\n",
              "        text-align: right;\n",
              "    }\n",
              "</style>\n",
              "<table border=\"1\" class=\"dataframe\">\n",
              "  <thead>\n",
              "    <tr style=\"text-align: right;\">\n",
              "      <th></th>\n",
              "      <th>Actual data</th>\n",
              "      <th>predicted data</th>\n",
              "    </tr>\n",
              "  </thead>\n",
              "  <tbody>\n",
              "    <tr>\n",
              "      <th>0</th>\n",
              "      <td>25</td>\n",
              "      <td>29.040838</td>\n",
              "    </tr>\n",
              "    <tr>\n",
              "      <th>1</th>\n",
              "      <td>60</td>\n",
              "      <td>56.550100</td>\n",
              "    </tr>\n",
              "    <tr>\n",
              "      <th>2</th>\n",
              "      <td>88</td>\n",
              "      <td>92.901624</td>\n",
              "    </tr>\n",
              "    <tr>\n",
              "      <th>3</th>\n",
              "      <td>41</td>\n",
              "      <td>46.725363</td>\n",
              "    </tr>\n",
              "    <tr>\n",
              "      <th>4</th>\n",
              "      <td>54</td>\n",
              "      <td>49.672784</td>\n",
              "    </tr>\n",
              "  </tbody>\n",
              "</table>\n",
              "</div>"
            ],
            "text/plain": [
              "   Actual data  predicted data\n",
              "0           25       29.040838\n",
              "1           60       56.550100\n",
              "2           88       92.901624\n",
              "3           41       46.725363\n",
              "4           54       49.672784"
            ]
          },
          "metadata": {
            "tags": []
          },
          "execution_count": 38
        }
      ]
    },
    {
      "cell_type": "code",
      "metadata": {
        "colab": {
          "base_uri": "https://localhost:8080/"
        },
        "id": "z_l9ST-_UCgI",
        "outputId": "40b8b4b4-84c9-42ab-dd0f-c0bdfc2ee539"
      },
      "source": [
        "#Lets print our model score \r\n",
        "print(model.score(X_train,y_train))\r\n",
        "print(model.score(X_test,y_test))"
      ],
      "execution_count": null,
      "outputs": [
        {
          "output_type": "stream",
          "text": [
            "0.9526892101638127\n",
            "0.9528617651149368\n"
          ],
          "name": "stdout"
        }
      ]
    },
    {
      "cell_type": "markdown",
      "metadata": {
        "id": "99hQ0kg3UykM"
      },
      "source": [
        "## What if the student studies for 9.25 hours/day?"
      ]
    },
    {
      "cell_type": "code",
      "metadata": {
        "colab": {
          "base_uri": "https://localhost:8080/"
        },
        "id": "OWSJK6zyUmhu",
        "outputId": "add4a248-1a45-480a-db74-03133b2ac08d"
      },
      "source": [
        "hours=9.25\r\n",
        "time=np.array(hours).reshape(-1,1)\r\n",
        "result=model.predict(time)\r\n",
        "print(f\"No. of hours = {hours}\")\r\n",
        "print(f\"Predicted Value = {result[0]}\")"
      ],
      "execution_count": null,
      "outputs": [
        {
          "output_type": "stream",
          "text": [
            "No. of hours = 9.25\n",
            "Predicted Value = 93.39286045326043\n"
          ],
          "name": "stdout"
        }
      ]
    },
    {
      "cell_type": "markdown",
      "metadata": {
        "id": "LzolczHtVoIj"
      },
      "source": [
        "###9.) Evaluating our model\r\n",
        "So, this is our final and fore most step, evaluating or checking our model "
      ]
    },
    {
      "cell_type": "code",
      "metadata": {
        "colab": {
          "base_uri": "https://localhost:8080/"
        },
        "id": "cdriXeniVarP",
        "outputId": "e3dce35e-fb19-4d22-dd59-81a59fdf6702"
      },
      "source": [
        "from sklearn import metrics\r\n",
        "print(f\"Mean Absolute Error = {metrics.mean_absolute_error(y_test,pred)}\")\r\n",
        "print(f\"Root Mean square Error = {np.sqrt(metrics.mean_squared_error(y_test,pred))}\")\r\n",
        "print(f\"R2 Score = {metrics.r2_score(y_test,pred)}\")"
      ],
      "execution_count": null,
      "outputs": [
        {
          "output_type": "stream",
          "text": [
            "Mean Absolute Error = 4.4889882745516045\n",
            "Root Mean square Error = 4.555451297709179\n",
            "R2 Score = 0.9528617651149368\n"
          ],
          "name": "stdout"
        }
      ]
    },
    {
      "cell_type": "markdown",
      "metadata": {
        "id": "yqGmKABgviZL"
      },
      "source": [
        "*   We can see here our model is making predictions in a proficient manner \r\n",
        "*We can also state that our model counted to have an efficiency of 95% , which quite great efficiency.\r\n",
        "\r\n",
        "\r\n",
        "* So, We can conclude this by stating that our model is fit and proficient in making predictions. \r\n",
        "\r\n",
        "\r\n",
        "\r\n",
        "\r\n",
        "\r\n",
        "\r\n",
        "\r\n"
      ]
    },
    {
      "cell_type": "markdown",
      "metadata": {
        "id": "vV9tctSLwOC6"
      },
      "source": [
        "## THANK YOU"
      ]
    }
  ]
}